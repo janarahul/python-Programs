{
 "cells": [
  {
   "cell_type": "code",
   "execution_count": 95,
   "metadata": {},
   "outputs": [
    {
     "data": {
      "text/plain": [
       "0.97907246019669059"
      ]
     },
     "execution_count": 95,
     "metadata": {},
     "output_type": "execute_result"
    }
   ],
   "source": [
    "import pandas as pd\n",
    "import quandl\n",
    "import math\n",
    "import numpy as np\n",
    "from sklearn import cross_validation, preprocessing, svm\n",
    "from sklearn.linear_model import LinearRegression\n",
    "df = quandl.get('WIKI/GOOGL')\n",
    "\n",
    "df = df [['Adj. High','Adj. Low','Adj. Open','Adj. Close','Adj. Volume']]\n",
    "df['HL_PCT'] = (df['Adj. High']-df['Adj. Low'])/df['Adj. Low'] * 100.0\n",
    "df['CO_PCT'] = (df['Adj. Close']-df['Adj. Open'])/df['Adj. Open'] * 100.0\n",
    "df = df[['HL_PCT','CO_PCT','Adj. Volume','Adj. Close']]\n",
    "df.fillna(-9999,inplace=True)\n",
    "\n",
    "#out = int(math.ceil(0.1*len(df)))\n",
    "df['label'] = df[col].shift(-32)\n",
    "df.dropna(inplace=True)\n",
    "\n",
    "\n",
    "X = np.array(df.drop('label',1))\n",
    "\n",
    "y = np.array(df['label'])\n",
    "\n",
    "X_train , X_test, y_train, y_test = cross_validation.train_test_split(X,y,test_size=0.2)\n",
    "\n",
    "clf = LinearRegression()\n",
    "clf.fit(X_train,y_train)\n",
    "clf.score(X_test,y_test)"
   ]
  },
  {
   "cell_type": "code",
   "execution_count": null,
   "metadata": {
    "collapsed": true
   },
   "outputs": [],
   "source": []
  },
  {
   "cell_type": "code",
   "execution_count": null,
   "metadata": {
    "collapsed": true
   },
   "outputs": [],
   "source": []
  },
  {
   "cell_type": "code",
   "execution_count": null,
   "metadata": {
    "collapsed": true
   },
   "outputs": [],
   "source": []
  },
  {
   "cell_type": "code",
   "execution_count": null,
   "metadata": {
    "collapsed": true
   },
   "outputs": [],
   "source": []
  }
 ],
 "metadata": {
  "kernelspec": {
   "display_name": "Python 3",
   "language": "python",
   "name": "python3"
  },
  "language_info": {
   "codemirror_mode": {
    "name": "ipython",
    "version": 3
   },
   "file_extension": ".py",
   "mimetype": "text/x-python",
   "name": "python",
   "nbconvert_exporter": "python",
   "pygments_lexer": "ipython3",
   "version": "3.6.1"
  }
 },
 "nbformat": 4,
 "nbformat_minor": 2
}
