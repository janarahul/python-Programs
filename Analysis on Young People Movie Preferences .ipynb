{
 "cells": [
  {
   "cell_type": "code",
   "execution_count": 1,
   "metadata": {
    "collapsed": true
   },
   "outputs": [],
   "source": [
    "import pandas as pd\n",
    "import numpy as np\n",
    "import matplotlib.pyplot as plot\n",
    "%matplotlib inline\n",
    "data = pd.read_csv('responses1.csv')"
   ]
  },
  {
   "cell_type": "code",
   "execution_count": null,
   "metadata": {
    "collapsed": true
   },
   "outputs": [],
   "source": []
  },
  {
   "cell_type": "code",
   "execution_count": 2,
   "metadata": {},
   "outputs": [
    {
     "data": {
      "text/html": [
       "<div>\n",
       "<style scoped>\n",
       "    .dataframe tbody tr th:only-of-type {\n",
       "        vertical-align: middle;\n",
       "    }\n",
       "\n",
       "    .dataframe tbody tr th {\n",
       "        vertical-align: top;\n",
       "    }\n",
       "\n",
       "    .dataframe thead th {\n",
       "        text-align: right;\n",
       "    }\n",
       "</style>\n",
       "<table border=\"1\" class=\"dataframe\">\n",
       "  <thead>\n",
       "    <tr style=\"text-align: right;\">\n",
       "      <th></th>\n",
       "      <th>Music</th>\n",
       "      <th>Slow songs or fast songs</th>\n",
       "      <th>Dance</th>\n",
       "      <th>Folk</th>\n",
       "      <th>Country</th>\n",
       "      <th>Classical music</th>\n",
       "      <th>Musical</th>\n",
       "      <th>Pop</th>\n",
       "      <th>Rock</th>\n",
       "      <th>Metal or Hardrock</th>\n",
       "      <th>...</th>\n",
       "      <th>Shopping centres</th>\n",
       "      <th>Branded clothing</th>\n",
       "      <th>Entertainment spending</th>\n",
       "      <th>Spending on looks</th>\n",
       "      <th>Spending on gadgets</th>\n",
       "      <th>Spending on healthy eating</th>\n",
       "      <th>Age</th>\n",
       "      <th>Height</th>\n",
       "      <th>Weight</th>\n",
       "      <th>Number of siblings</th>\n",
       "    </tr>\n",
       "  </thead>\n",
       "  <tbody>\n",
       "    <tr>\n",
       "      <th>count</th>\n",
       "      <td>1007.000000</td>\n",
       "      <td>1008.000000</td>\n",
       "      <td>1006.000000</td>\n",
       "      <td>1005.000000</td>\n",
       "      <td>1005.000000</td>\n",
       "      <td>1003.000000</td>\n",
       "      <td>1008.000000</td>\n",
       "      <td>1007.000000</td>\n",
       "      <td>1004.000000</td>\n",
       "      <td>1007.000000</td>\n",
       "      <td>...</td>\n",
       "      <td>1008.000000</td>\n",
       "      <td>1008.000000</td>\n",
       "      <td>1007.000000</td>\n",
       "      <td>1007.000000</td>\n",
       "      <td>1010.000000</td>\n",
       "      <td>1008.00000</td>\n",
       "      <td>1003.000000</td>\n",
       "      <td>990.000000</td>\n",
       "      <td>990.000000</td>\n",
       "      <td>1004.000000</td>\n",
       "    </tr>\n",
       "    <tr>\n",
       "      <th>mean</th>\n",
       "      <td>4.731877</td>\n",
       "      <td>3.328373</td>\n",
       "      <td>3.113320</td>\n",
       "      <td>2.288557</td>\n",
       "      <td>2.123383</td>\n",
       "      <td>2.956132</td>\n",
       "      <td>2.761905</td>\n",
       "      <td>3.471698</td>\n",
       "      <td>3.761952</td>\n",
       "      <td>2.361470</td>\n",
       "      <td>...</td>\n",
       "      <td>3.234127</td>\n",
       "      <td>3.050595</td>\n",
       "      <td>3.201589</td>\n",
       "      <td>3.106256</td>\n",
       "      <td>2.870297</td>\n",
       "      <td>3.55754</td>\n",
       "      <td>20.433699</td>\n",
       "      <td>173.514141</td>\n",
       "      <td>66.405051</td>\n",
       "      <td>1.297809</td>\n",
       "    </tr>\n",
       "    <tr>\n",
       "      <th>std</th>\n",
       "      <td>0.664049</td>\n",
       "      <td>0.833931</td>\n",
       "      <td>1.170568</td>\n",
       "      <td>1.138916</td>\n",
       "      <td>1.076136</td>\n",
       "      <td>1.252570</td>\n",
       "      <td>1.260845</td>\n",
       "      <td>1.161400</td>\n",
       "      <td>1.184861</td>\n",
       "      <td>1.372995</td>\n",
       "      <td>...</td>\n",
       "      <td>1.323062</td>\n",
       "      <td>1.306321</td>\n",
       "      <td>1.188947</td>\n",
       "      <td>1.205368</td>\n",
       "      <td>1.284970</td>\n",
       "      <td>1.09375</td>\n",
       "      <td>2.828840</td>\n",
       "      <td>10.024505</td>\n",
       "      <td>13.839561</td>\n",
       "      <td>1.013348</td>\n",
       "    </tr>\n",
       "    <tr>\n",
       "      <th>min</th>\n",
       "      <td>1.000000</td>\n",
       "      <td>1.000000</td>\n",
       "      <td>1.000000</td>\n",
       "      <td>1.000000</td>\n",
       "      <td>1.000000</td>\n",
       "      <td>1.000000</td>\n",
       "      <td>1.000000</td>\n",
       "      <td>1.000000</td>\n",
       "      <td>1.000000</td>\n",
       "      <td>1.000000</td>\n",
       "      <td>...</td>\n",
       "      <td>1.000000</td>\n",
       "      <td>1.000000</td>\n",
       "      <td>1.000000</td>\n",
       "      <td>1.000000</td>\n",
       "      <td>1.000000</td>\n",
       "      <td>1.00000</td>\n",
       "      <td>15.000000</td>\n",
       "      <td>62.000000</td>\n",
       "      <td>41.000000</td>\n",
       "      <td>0.000000</td>\n",
       "    </tr>\n",
       "    <tr>\n",
       "      <th>25%</th>\n",
       "      <td>5.000000</td>\n",
       "      <td>3.000000</td>\n",
       "      <td>2.000000</td>\n",
       "      <td>1.000000</td>\n",
       "      <td>1.000000</td>\n",
       "      <td>2.000000</td>\n",
       "      <td>2.000000</td>\n",
       "      <td>3.000000</td>\n",
       "      <td>3.000000</td>\n",
       "      <td>1.000000</td>\n",
       "      <td>...</td>\n",
       "      <td>2.000000</td>\n",
       "      <td>2.000000</td>\n",
       "      <td>2.000000</td>\n",
       "      <td>2.000000</td>\n",
       "      <td>2.000000</td>\n",
       "      <td>3.00000</td>\n",
       "      <td>19.000000</td>\n",
       "      <td>167.000000</td>\n",
       "      <td>55.000000</td>\n",
       "      <td>1.000000</td>\n",
       "    </tr>\n",
       "    <tr>\n",
       "      <th>50%</th>\n",
       "      <td>5.000000</td>\n",
       "      <td>3.000000</td>\n",
       "      <td>3.000000</td>\n",
       "      <td>2.000000</td>\n",
       "      <td>2.000000</td>\n",
       "      <td>3.000000</td>\n",
       "      <td>3.000000</td>\n",
       "      <td>4.000000</td>\n",
       "      <td>4.000000</td>\n",
       "      <td>2.000000</td>\n",
       "      <td>...</td>\n",
       "      <td>3.000000</td>\n",
       "      <td>3.000000</td>\n",
       "      <td>3.000000</td>\n",
       "      <td>3.000000</td>\n",
       "      <td>3.000000</td>\n",
       "      <td>4.00000</td>\n",
       "      <td>20.000000</td>\n",
       "      <td>173.000000</td>\n",
       "      <td>64.000000</td>\n",
       "      <td>1.000000</td>\n",
       "    </tr>\n",
       "    <tr>\n",
       "      <th>75%</th>\n",
       "      <td>5.000000</td>\n",
       "      <td>4.000000</td>\n",
       "      <td>4.000000</td>\n",
       "      <td>3.000000</td>\n",
       "      <td>3.000000</td>\n",
       "      <td>4.000000</td>\n",
       "      <td>4.000000</td>\n",
       "      <td>4.000000</td>\n",
       "      <td>5.000000</td>\n",
       "      <td>3.000000</td>\n",
       "      <td>...</td>\n",
       "      <td>4.000000</td>\n",
       "      <td>4.000000</td>\n",
       "      <td>4.000000</td>\n",
       "      <td>4.000000</td>\n",
       "      <td>4.000000</td>\n",
       "      <td>4.00000</td>\n",
       "      <td>22.000000</td>\n",
       "      <td>180.000000</td>\n",
       "      <td>75.000000</td>\n",
       "      <td>2.000000</td>\n",
       "    </tr>\n",
       "    <tr>\n",
       "      <th>max</th>\n",
       "      <td>5.000000</td>\n",
       "      <td>5.000000</td>\n",
       "      <td>5.000000</td>\n",
       "      <td>5.000000</td>\n",
       "      <td>5.000000</td>\n",
       "      <td>5.000000</td>\n",
       "      <td>5.000000</td>\n",
       "      <td>5.000000</td>\n",
       "      <td>5.000000</td>\n",
       "      <td>5.000000</td>\n",
       "      <td>...</td>\n",
       "      <td>5.000000</td>\n",
       "      <td>5.000000</td>\n",
       "      <td>5.000000</td>\n",
       "      <td>5.000000</td>\n",
       "      <td>5.000000</td>\n",
       "      <td>5.00000</td>\n",
       "      <td>30.000000</td>\n",
       "      <td>203.000000</td>\n",
       "      <td>165.000000</td>\n",
       "      <td>10.000000</td>\n",
       "    </tr>\n",
       "  </tbody>\n",
       "</table>\n",
       "<p>8 rows × 139 columns</p>\n",
       "</div>"
      ],
      "text/plain": [
       "             Music  Slow songs or fast songs        Dance         Folk  \\\n",
       "count  1007.000000               1008.000000  1006.000000  1005.000000   \n",
       "mean      4.731877                  3.328373     3.113320     2.288557   \n",
       "std       0.664049                  0.833931     1.170568     1.138916   \n",
       "min       1.000000                  1.000000     1.000000     1.000000   \n",
       "25%       5.000000                  3.000000     2.000000     1.000000   \n",
       "50%       5.000000                  3.000000     3.000000     2.000000   \n",
       "75%       5.000000                  4.000000     4.000000     3.000000   \n",
       "max       5.000000                  5.000000     5.000000     5.000000   \n",
       "\n",
       "           Country  Classical music      Musical          Pop         Rock  \\\n",
       "count  1005.000000      1003.000000  1008.000000  1007.000000  1004.000000   \n",
       "mean      2.123383         2.956132     2.761905     3.471698     3.761952   \n",
       "std       1.076136         1.252570     1.260845     1.161400     1.184861   \n",
       "min       1.000000         1.000000     1.000000     1.000000     1.000000   \n",
       "25%       1.000000         2.000000     2.000000     3.000000     3.000000   \n",
       "50%       2.000000         3.000000     3.000000     4.000000     4.000000   \n",
       "75%       3.000000         4.000000     4.000000     4.000000     5.000000   \n",
       "max       5.000000         5.000000     5.000000     5.000000     5.000000   \n",
       "\n",
       "       Metal or Hardrock         ...          Shopping centres  \\\n",
       "count        1007.000000         ...               1008.000000   \n",
       "mean            2.361470         ...                  3.234127   \n",
       "std             1.372995         ...                  1.323062   \n",
       "min             1.000000         ...                  1.000000   \n",
       "25%             1.000000         ...                  2.000000   \n",
       "50%             2.000000         ...                  3.000000   \n",
       "75%             3.000000         ...                  4.000000   \n",
       "max             5.000000         ...                  5.000000   \n",
       "\n",
       "       Branded clothing  Entertainment spending  Spending on looks  \\\n",
       "count       1008.000000             1007.000000        1007.000000   \n",
       "mean           3.050595                3.201589           3.106256   \n",
       "std            1.306321                1.188947           1.205368   \n",
       "min            1.000000                1.000000           1.000000   \n",
       "25%            2.000000                2.000000           2.000000   \n",
       "50%            3.000000                3.000000           3.000000   \n",
       "75%            4.000000                4.000000           4.000000   \n",
       "max            5.000000                5.000000           5.000000   \n",
       "\n",
       "       Spending on gadgets  Spending on healthy eating          Age  \\\n",
       "count          1010.000000                  1008.00000  1003.000000   \n",
       "mean              2.870297                     3.55754    20.433699   \n",
       "std               1.284970                     1.09375     2.828840   \n",
       "min               1.000000                     1.00000    15.000000   \n",
       "25%               2.000000                     3.00000    19.000000   \n",
       "50%               3.000000                     4.00000    20.000000   \n",
       "75%               4.000000                     4.00000    22.000000   \n",
       "max               5.000000                     5.00000    30.000000   \n",
       "\n",
       "           Height      Weight  Number of siblings  \n",
       "count  990.000000  990.000000         1004.000000  \n",
       "mean   173.514141   66.405051            1.297809  \n",
       "std     10.024505   13.839561            1.013348  \n",
       "min     62.000000   41.000000            0.000000  \n",
       "25%    167.000000   55.000000            1.000000  \n",
       "50%    173.000000   64.000000            1.000000  \n",
       "75%    180.000000   75.000000            2.000000  \n",
       "max    203.000000  165.000000           10.000000  \n",
       "\n",
       "[8 rows x 139 columns]"
      ]
     },
     "execution_count": 2,
     "metadata": {},
     "output_type": "execute_result"
    }
   ],
   "source": [
    "data.describe()"
   ]
  },
  {
   "cell_type": "code",
   "execution_count": 3,
   "metadata": {
    "collapsed": true
   },
   "outputs": [],
   "source": [
    "#get rows with 'blockof flats'\n",
    "data1 = data.loc[data['House - block of flats'] == 'block of flats']"
   ]
  },
  {
   "cell_type": "code",
   "execution_count": 4,
   "metadata": {},
   "outputs": [
    {
     "data": {
      "text/html": [
       "<div>\n",
       "<style scoped>\n",
       "    .dataframe tbody tr th:only-of-type {\n",
       "        vertical-align: middle;\n",
       "    }\n",
       "\n",
       "    .dataframe tbody tr th {\n",
       "        vertical-align: top;\n",
       "    }\n",
       "\n",
       "    .dataframe thead th {\n",
       "        text-align: right;\n",
       "    }\n",
       "</style>\n",
       "<table border=\"1\" class=\"dataframe\">\n",
       "  <thead>\n",
       "    <tr style=\"text-align: right;\">\n",
       "      <th></th>\n",
       "      <th>Music</th>\n",
       "      <th>Slow songs or fast songs</th>\n",
       "      <th>Dance</th>\n",
       "      <th>Folk</th>\n",
       "      <th>Country</th>\n",
       "      <th>Classical music</th>\n",
       "      <th>Musical</th>\n",
       "      <th>Pop</th>\n",
       "      <th>Rock</th>\n",
       "      <th>Metal or Hardrock</th>\n",
       "      <th>...</th>\n",
       "      <th>Age</th>\n",
       "      <th>Height</th>\n",
       "      <th>Weight</th>\n",
       "      <th>Number of siblings</th>\n",
       "      <th>Gender</th>\n",
       "      <th>Left - right handed</th>\n",
       "      <th>Education</th>\n",
       "      <th>Only child</th>\n",
       "      <th>Village - town</th>\n",
       "      <th>House - block of flats</th>\n",
       "    </tr>\n",
       "  </thead>\n",
       "  <tbody>\n",
       "    <tr>\n",
       "      <th>0</th>\n",
       "      <td>5.0</td>\n",
       "      <td>3.0</td>\n",
       "      <td>2.0</td>\n",
       "      <td>1.0</td>\n",
       "      <td>2.0</td>\n",
       "      <td>2.0</td>\n",
       "      <td>1.0</td>\n",
       "      <td>5.0</td>\n",
       "      <td>5.0</td>\n",
       "      <td>1.0</td>\n",
       "      <td>...</td>\n",
       "      <td>20.0</td>\n",
       "      <td>163.0</td>\n",
       "      <td>48.0</td>\n",
       "      <td>1.0</td>\n",
       "      <td>female</td>\n",
       "      <td>right handed</td>\n",
       "      <td>college/bachelor degree</td>\n",
       "      <td>no</td>\n",
       "      <td>Anantapur</td>\n",
       "      <td>block of flats</td>\n",
       "    </tr>\n",
       "    <tr>\n",
       "      <th>1</th>\n",
       "      <td>4.0</td>\n",
       "      <td>4.0</td>\n",
       "      <td>2.0</td>\n",
       "      <td>1.0</td>\n",
       "      <td>1.0</td>\n",
       "      <td>1.0</td>\n",
       "      <td>2.0</td>\n",
       "      <td>3.0</td>\n",
       "      <td>5.0</td>\n",
       "      <td>4.0</td>\n",
       "      <td>...</td>\n",
       "      <td>19.0</td>\n",
       "      <td>163.0</td>\n",
       "      <td>58.0</td>\n",
       "      <td>2.0</td>\n",
       "      <td>female</td>\n",
       "      <td>right handed</td>\n",
       "      <td>college/bachelor degree</td>\n",
       "      <td>no</td>\n",
       "      <td>Hyderabad</td>\n",
       "      <td>block of flats</td>\n",
       "    </tr>\n",
       "    <tr>\n",
       "      <th>2</th>\n",
       "      <td>5.0</td>\n",
       "      <td>5.0</td>\n",
       "      <td>2.0</td>\n",
       "      <td>2.0</td>\n",
       "      <td>3.0</td>\n",
       "      <td>4.0</td>\n",
       "      <td>5.0</td>\n",
       "      <td>3.0</td>\n",
       "      <td>5.0</td>\n",
       "      <td>3.0</td>\n",
       "      <td>...</td>\n",
       "      <td>20.0</td>\n",
       "      <td>176.0</td>\n",
       "      <td>67.0</td>\n",
       "      <td>2.0</td>\n",
       "      <td>female</td>\n",
       "      <td>right handed</td>\n",
       "      <td>secondary school</td>\n",
       "      <td>no</td>\n",
       "      <td>Chennai</td>\n",
       "      <td>block of flats</td>\n",
       "    </tr>\n",
       "    <tr>\n",
       "      <th>3</th>\n",
       "      <td>5.0</td>\n",
       "      <td>3.0</td>\n",
       "      <td>2.0</td>\n",
       "      <td>1.0</td>\n",
       "      <td>1.0</td>\n",
       "      <td>1.0</td>\n",
       "      <td>1.0</td>\n",
       "      <td>2.0</td>\n",
       "      <td>2.0</td>\n",
       "      <td>1.0</td>\n",
       "      <td>...</td>\n",
       "      <td>22.0</td>\n",
       "      <td>172.0</td>\n",
       "      <td>59.0</td>\n",
       "      <td>1.0</td>\n",
       "      <td>female</td>\n",
       "      <td>right handed</td>\n",
       "      <td>college/bachelor degree</td>\n",
       "      <td>yes</td>\n",
       "      <td>Delhi</td>\n",
       "      <td>house/bungalow</td>\n",
       "    </tr>\n",
       "    <tr>\n",
       "      <th>4</th>\n",
       "      <td>5.0</td>\n",
       "      <td>3.0</td>\n",
       "      <td>4.0</td>\n",
       "      <td>3.0</td>\n",
       "      <td>2.0</td>\n",
       "      <td>4.0</td>\n",
       "      <td>3.0</td>\n",
       "      <td>5.0</td>\n",
       "      <td>3.0</td>\n",
       "      <td>1.0</td>\n",
       "      <td>...</td>\n",
       "      <td>20.0</td>\n",
       "      <td>170.0</td>\n",
       "      <td>59.0</td>\n",
       "      <td>1.0</td>\n",
       "      <td>female</td>\n",
       "      <td>right handed</td>\n",
       "      <td>secondary school</td>\n",
       "      <td>no</td>\n",
       "      <td>Kurnool</td>\n",
       "      <td>house/bungalow</td>\n",
       "    </tr>\n",
       "    <tr>\n",
       "      <th>5</th>\n",
       "      <td>5.0</td>\n",
       "      <td>3.0</td>\n",
       "      <td>2.0</td>\n",
       "      <td>3.0</td>\n",
       "      <td>2.0</td>\n",
       "      <td>3.0</td>\n",
       "      <td>3.0</td>\n",
       "      <td>2.0</td>\n",
       "      <td>5.0</td>\n",
       "      <td>5.0</td>\n",
       "      <td>...</td>\n",
       "      <td>20.0</td>\n",
       "      <td>186.0</td>\n",
       "      <td>77.0</td>\n",
       "      <td>1.0</td>\n",
       "      <td>male</td>\n",
       "      <td>right handed</td>\n",
       "      <td>secondary school</td>\n",
       "      <td>no</td>\n",
       "      <td>Kolkata</td>\n",
       "      <td>block of flats</td>\n",
       "    </tr>\n",
       "    <tr>\n",
       "      <th>6</th>\n",
       "      <td>5.0</td>\n",
       "      <td>5.0</td>\n",
       "      <td>5.0</td>\n",
       "      <td>3.0</td>\n",
       "      <td>1.0</td>\n",
       "      <td>2.0</td>\n",
       "      <td>2.0</td>\n",
       "      <td>5.0</td>\n",
       "      <td>3.0</td>\n",
       "      <td>1.0</td>\n",
       "      <td>...</td>\n",
       "      <td>20.0</td>\n",
       "      <td>177.0</td>\n",
       "      <td>50.0</td>\n",
       "      <td>1.0</td>\n",
       "      <td>female</td>\n",
       "      <td>right handed</td>\n",
       "      <td>secondary school</td>\n",
       "      <td>no</td>\n",
       "      <td>Devanahalli</td>\n",
       "      <td>house/bungalow</td>\n",
       "    </tr>\n",
       "    <tr>\n",
       "      <th>7</th>\n",
       "      <td>5.0</td>\n",
       "      <td>3.0</td>\n",
       "      <td>3.0</td>\n",
       "      <td>2.0</td>\n",
       "      <td>1.0</td>\n",
       "      <td>2.0</td>\n",
       "      <td>2.0</td>\n",
       "      <td>4.0</td>\n",
       "      <td>5.0</td>\n",
       "      <td>1.0</td>\n",
       "      <td>...</td>\n",
       "      <td>19.0</td>\n",
       "      <td>184.0</td>\n",
       "      <td>90.0</td>\n",
       "      <td>1.0</td>\n",
       "      <td>male</td>\n",
       "      <td>right handed</td>\n",
       "      <td>college/bachelor degree</td>\n",
       "      <td>no</td>\n",
       "      <td>Hyderabad</td>\n",
       "      <td>house/bungalow</td>\n",
       "    </tr>\n",
       "    <tr>\n",
       "      <th>8</th>\n",
       "      <td>5.0</td>\n",
       "      <td>3.0</td>\n",
       "      <td>3.0</td>\n",
       "      <td>1.0</td>\n",
       "      <td>1.0</td>\n",
       "      <td>2.0</td>\n",
       "      <td>4.0</td>\n",
       "      <td>3.0</td>\n",
       "      <td>5.0</td>\n",
       "      <td>5.0</td>\n",
       "      <td>...</td>\n",
       "      <td>18.0</td>\n",
       "      <td>166.0</td>\n",
       "      <td>55.0</td>\n",
       "      <td>1.0</td>\n",
       "      <td>female</td>\n",
       "      <td>right handed</td>\n",
       "      <td>secondary school</td>\n",
       "      <td>no</td>\n",
       "      <td>Mumbai</td>\n",
       "      <td>house/bungalow</td>\n",
       "    </tr>\n",
       "    <tr>\n",
       "      <th>9</th>\n",
       "      <td>5.0</td>\n",
       "      <td>3.0</td>\n",
       "      <td>2.0</td>\n",
       "      <td>5.0</td>\n",
       "      <td>2.0</td>\n",
       "      <td>2.0</td>\n",
       "      <td>5.0</td>\n",
       "      <td>3.0</td>\n",
       "      <td>5.0</td>\n",
       "      <td>2.0</td>\n",
       "      <td>...</td>\n",
       "      <td>19.0</td>\n",
       "      <td>174.0</td>\n",
       "      <td>60.0</td>\n",
       "      <td>3.0</td>\n",
       "      <td>female</td>\n",
       "      <td>right handed</td>\n",
       "      <td>secondary school</td>\n",
       "      <td>no</td>\n",
       "      <td>Bengaluru</td>\n",
       "      <td>block of flats</td>\n",
       "    </tr>\n",
       "  </tbody>\n",
       "</table>\n",
       "<p>10 rows × 150 columns</p>\n",
       "</div>"
      ],
      "text/plain": [
       "   Music  Slow songs or fast songs  Dance  Folk  Country  Classical music  \\\n",
       "0    5.0                       3.0    2.0   1.0      2.0              2.0   \n",
       "1    4.0                       4.0    2.0   1.0      1.0              1.0   \n",
       "2    5.0                       5.0    2.0   2.0      3.0              4.0   \n",
       "3    5.0                       3.0    2.0   1.0      1.0              1.0   \n",
       "4    5.0                       3.0    4.0   3.0      2.0              4.0   \n",
       "5    5.0                       3.0    2.0   3.0      2.0              3.0   \n",
       "6    5.0                       5.0    5.0   3.0      1.0              2.0   \n",
       "7    5.0                       3.0    3.0   2.0      1.0              2.0   \n",
       "8    5.0                       3.0    3.0   1.0      1.0              2.0   \n",
       "9    5.0                       3.0    2.0   5.0      2.0              2.0   \n",
       "\n",
       "   Musical  Pop  Rock  Metal or Hardrock           ...             Age  \\\n",
       "0      1.0  5.0   5.0                1.0           ...            20.0   \n",
       "1      2.0  3.0   5.0                4.0           ...            19.0   \n",
       "2      5.0  3.0   5.0                3.0           ...            20.0   \n",
       "3      1.0  2.0   2.0                1.0           ...            22.0   \n",
       "4      3.0  5.0   3.0                1.0           ...            20.0   \n",
       "5      3.0  2.0   5.0                5.0           ...            20.0   \n",
       "6      2.0  5.0   3.0                1.0           ...            20.0   \n",
       "7      2.0  4.0   5.0                1.0           ...            19.0   \n",
       "8      4.0  3.0   5.0                5.0           ...            18.0   \n",
       "9      5.0  3.0   5.0                2.0           ...            19.0   \n",
       "\n",
       "   Height  Weight  Number of siblings  Gender  Left - right handed  \\\n",
       "0   163.0    48.0                 1.0  female         right handed   \n",
       "1   163.0    58.0                 2.0  female         right handed   \n",
       "2   176.0    67.0                 2.0  female         right handed   \n",
       "3   172.0    59.0                 1.0  female         right handed   \n",
       "4   170.0    59.0                 1.0  female         right handed   \n",
       "5   186.0    77.0                 1.0    male         right handed   \n",
       "6   177.0    50.0                 1.0  female         right handed   \n",
       "7   184.0    90.0                 1.0    male         right handed   \n",
       "8   166.0    55.0                 1.0  female         right handed   \n",
       "9   174.0    60.0                 3.0  female         right handed   \n",
       "\n",
       "                 Education  Only child  Village - town  House - block of flats  \n",
       "0  college/bachelor degree          no       Anantapur          block of flats  \n",
       "1  college/bachelor degree          no       Hyderabad          block of flats  \n",
       "2         secondary school          no         Chennai          block of flats  \n",
       "3  college/bachelor degree         yes           Delhi          house/bungalow  \n",
       "4         secondary school          no         Kurnool          house/bungalow  \n",
       "5         secondary school          no         Kolkata          block of flats  \n",
       "6         secondary school          no     Devanahalli          house/bungalow  \n",
       "7  college/bachelor degree          no       Hyderabad          house/bungalow  \n",
       "8         secondary school          no          Mumbai          house/bungalow  \n",
       "9         secondary school          no       Bengaluru          block of flats  \n",
       "\n",
       "[10 rows x 150 columns]"
      ]
     },
     "execution_count": 4,
     "metadata": {},
     "output_type": "execute_result"
    }
   ],
   "source": [
    "data.head(n=10)"
   ]
  },
  {
   "cell_type": "code",
   "execution_count": 5,
   "metadata": {},
   "outputs": [
    {
     "name": "stdout",
     "output_type": "stream",
     "text": [
      "1.0    0.226891\n",
      "3.0    0.203361\n",
      "2.0    0.191597\n",
      "4.0    0.189916\n",
      "5.0    0.188235\n",
      "Name: Horror, dtype: float64\n",
      "4.0    0.309764\n",
      "3.0    0.239057\n",
      "5.0    0.213805\n",
      "2.0    0.163300\n",
      "1.0    0.074074\n",
      "Name: Thriller, dtype: float64\n",
      "5.0    0.658824\n",
      "4.0    0.233613\n",
      "3.0    0.085714\n",
      "2.0    0.020168\n",
      "1.0    0.001681\n",
      "Name: Comedy, dtype: float64\n",
      "3.0    0.286195\n",
      "5.0    0.254209\n",
      "4.0    0.245791\n",
      "2.0    0.149832\n",
      "1.0    0.063973\n",
      "Name: Romantic, dtype: float64\n",
      "3.0    0.272269\n",
      "4.0    0.225210\n",
      "2.0    0.198319\n",
      "5.0    0.181513\n",
      "1.0    0.122689\n",
      "Name: Sci-fi, dtype: float64\n"
     ]
    }
   ],
   "source": [
    "#percentage of 'likeness' for each genre\n",
    "print(data1['Horror'].value_counts(normalize=True))\n",
    "\n",
    "print(data1['Thriller'].value_counts(normalize=True))\n",
    "\n",
    "print(data1['Comedy'].value_counts(normalize=True))\n",
    "\n",
    "print(data1['Romantic'].value_counts(normalize=True))\n",
    "\n",
    "print(data1['Sci-fi'].value_counts(normalize=True))"
   ]
  },
  {
   "cell_type": "code",
   "execution_count": 6,
   "metadata": {},
   "outputs": [
    {
     "data": {
      "image/png": "[encoded data removed]",
      "text/plain": [
       "<matplotlib.figure.Figure at 0x176fbb33c50>"
      ]
     },
     "metadata": {},
     "output_type": "display_data"
    },
    {
     "name": "stderr",
     "output_type": "stream",
     "text": [
      "C:\\Users\\Admin\\Anaconda3\\lib\\site-packages\\pandas\\plotting\\_core.py:1716: UserWarning: Pandas doesn't allow columns to be created via a new attribute name - see https://pandas.pydata.org/pandas-docs/stable/indexing.html#attribute-access\n",
      "  series.name = label\n"
     ]
    },
    {
     "data": {
      "text/plain": [
       "<matplotlib.axes._subplots.AxesSubplot at 0x176fd5c1710>"
      ]
     },
     "execution_count": 6,
     "metadata": {},
     "output_type": "execute_result"
    },
    {
     "data": {
      "image/png": "[encoded data removed]",
      "text/plain": [
       "<matplotlib.figure.Figure at 0x176fd5b9fd0>"
      ]
     },
     "metadata": {},
     "output_type": "display_data"
    }
   ],
   "source": [
    "data1 = data.loc[data['House - block of flats'] == 'block of flats']\n",
    "genre = ['Horror','Thriller','Comedy','Romantic','Sci-fi']\n",
    "v1 = []\n",
    "for x in genre :\n",
    "    counts = data1[x].value_counts(normalize=True)\n",
    "    v1.append(counts[4]+counts[5])\n",
    "\n",
    "data2 = data.loc[data['House - block of flats'] != 'block of flats']\n",
    "v2 = []\n",
    "for x in genre :\n",
    "    counts = data2[x].value_counts(normalize=True)\n",
    "    v2.append( counts[4]+counts[5])\n",
    "\n",
    "\n",
    "v1\n",
    "\n",
    "v2\n",
    "\n",
    "objects = ('Horror','Thriller','Comedy','Romantic','Sci-fi')\n",
    "y_pos = np.arange(len(objects))\n",
    " \n",
    "plot.bar(y_pos, v1,v2, align='center', alpha=0.5)\n",
    "plot.xticks(y_pos, objects)\n",
    "plot.ylabel('%')\n",
    "plot.title('Movies like')\n",
    " \n",
    "plot.show()\n",
    "\n",
    "df = pd.DataFrame()\n",
    "\n",
    "df['flat']  = v1\n",
    "\n",
    "df['house'] = v2\n",
    "\n",
    "df\n",
    "\n",
    "df['index']= genre\n",
    "\n",
    "df.plot(x='index',y=['flat','house'],kind='bar')"
   ]
  },
  {
   "cell_type": "code",
   "execution_count": 7,
   "metadata": {
    "collapsed": true
   },
   "outputs": [],
   "source": [
    "v3 = []\n",
    "for x in genre :\n",
    "    counts = data[x].value_counts(normalize=True)\n",
    "    v3.append(counts[4]+counts[5])\n"
   ]
  },
  {
   "cell_type": "code",
   "execution_count": 8,
   "metadata": {},
   "outputs": [
    {
     "data": {
      "image/png": "[encoded data removed]",
      "text/plain": [
       "<matplotlib.figure.Figure at 0x176fd66f940>"
      ]
     },
     "metadata": {},
     "output_type": "display_data"
    }
   ],
   "source": [
    "\n",
    "colors = ['gold', 'yellowgreen', 'lightcoral', 'lightskyblue','gray']\n",
    "plot.pie(v3, labels=genre, colors=colors,\n",
    "        autopct='%1.1f%%', shadow=True, startangle=140)\n",
    " \n",
    "plot.axis('equal')\n",
    "plot.show()\n",
    "#for complete data"
   ]
  },
  {
   "cell_type": "code",
   "execution_count": 9,
   "metadata": {},
   "outputs": [
    {
     "data": {
      "image/png": "[encoded data removed]",
      "text/plain": [
       "<matplotlib.figure.Figure at 0x176fd5cd550>"
      ]
     },
     "metadata": {},
     "output_type": "display_data"
    }
   ],
   "source": [
    "plot.pie(v1, labels=genre, colors=colors,\n",
    "        autopct='%1.1f%%', shadow=True, startangle=140)\n",
    " \n",
    "plot.axis('equal')\n",
    "plot.show()\n",
    "#for block of flats rows"
   ]
  },
  {
   "cell_type": "code",
   "execution_count": 10,
   "metadata": {},
   "outputs": [
    {
     "data": {
      "image/png": "[encoded data removed]",
      "text/plain": [
       "<matplotlib.figure.Figure at 0x176fdc2d1d0>"
      ]
     },
     "metadata": {},
     "output_type": "display_data"
    }
   ],
   "source": [
    "plot.pie(v2, labels=genre, colors=colors,\n",
    "        autopct='%1.1f%%', shadow=True, startangle=140)\n",
    " \n",
    "plot.axis('equal')\n",
    "plot.show()\n",
    "#for house rows "
   ]
  },
  {
   "cell_type": "code",
   "execution_count": 11,
   "metadata": {},
   "outputs": [
    {
     "data": {
      "text/html": [
       "<div>\n",
       "<style scoped>\n",
       "    .dataframe tbody tr th:only-of-type {\n",
       "        vertical-align: middle;\n",
       "    }\n",
       "\n",
       "    .dataframe tbody tr th {\n",
       "        vertical-align: top;\n",
       "    }\n",
       "\n",
       "    .dataframe thead th {\n",
       "        text-align: right;\n",
       "    }\n",
       "</style>\n",
       "<table border=\"1\" class=\"dataframe\">\n",
       "  <thead>\n",
       "    <tr style=\"text-align: right;\">\n",
       "      <th></th>\n",
       "      <th>Movies</th>\n",
       "      <th>Age</th>\n",
       "      <th>Loneliness</th>\n",
       "      <th>Entertainment spending</th>\n",
       "      <th>Socializing</th>\n",
       "    </tr>\n",
       "  </thead>\n",
       "  <tbody>\n",
       "    <tr>\n",
       "      <th>Movies</th>\n",
       "      <td>1.000000</td>\n",
       "      <td>-0.022590</td>\n",
       "      <td>0.008449</td>\n",
       "      <td>0.081493</td>\n",
       "      <td>0.073910</td>\n",
       "    </tr>\n",
       "    <tr>\n",
       "      <th>Age</th>\n",
       "      <td>-0.022590</td>\n",
       "      <td>1.000000</td>\n",
       "      <td>-0.066186</td>\n",
       "      <td>-0.030833</td>\n",
       "      <td>-0.021718</td>\n",
       "    </tr>\n",
       "    <tr>\n",
       "      <th>Loneliness</th>\n",
       "      <td>0.008449</td>\n",
       "      <td>-0.066186</td>\n",
       "      <td>1.000000</td>\n",
       "      <td>-0.093662</td>\n",
       "      <td>-0.128266</td>\n",
       "    </tr>\n",
       "    <tr>\n",
       "      <th>Entertainment spending</th>\n",
       "      <td>0.081493</td>\n",
       "      <td>-0.030833</td>\n",
       "      <td>-0.093662</td>\n",
       "      <td>1.000000</td>\n",
       "      <td>0.157521</td>\n",
       "    </tr>\n",
       "    <tr>\n",
       "      <th>Socializing</th>\n",
       "      <td>0.073910</td>\n",
       "      <td>-0.021718</td>\n",
       "      <td>-0.128266</td>\n",
       "      <td>0.157521</td>\n",
       "      <td>1.000000</td>\n",
       "    </tr>\n",
       "  </tbody>\n",
       "</table>\n",
       "</div>"
      ],
      "text/plain": [
       "                          Movies       Age  Loneliness  \\\n",
       "Movies                  1.000000 -0.022590    0.008449   \n",
       "Age                    -0.022590  1.000000   -0.066186   \n",
       "Loneliness              0.008449 -0.066186    1.000000   \n",
       "Entertainment spending  0.081493 -0.030833   -0.093662   \n",
       "Socializing             0.073910 -0.021718   -0.128266   \n",
       "\n",
       "                        Entertainment spending  Socializing  \n",
       "Movies                                0.081493     0.073910  \n",
       "Age                                  -0.030833    -0.021718  \n",
       "Loneliness                           -0.093662    -0.128266  \n",
       "Entertainment spending                1.000000     0.157521  \n",
       "Socializing                           0.157521     1.000000  "
      ]
     },
     "execution_count": 11,
     "metadata": {},
     "output_type": "execute_result"
    }
   ],
   "source": [
    "data[['Movies','Age','Gender','Loneliness','Entertainment spending','Socializing']].corr()\n"
   ]
  },
  {
   "cell_type": "code",
   "execution_count": 12,
   "metadata": {
    "collapsed": true
   },
   "outputs": [],
   "source": [
    "corr = data.corr()\n",
    "m = (corr.mask(np.eye(len(corr), dtype=bool)).abs() > 0.6).any()"
   ]
  },
  {
   "cell_type": "code",
   "execution_count": 13,
   "metadata": {},
   "outputs": [
    {
     "data": {
      "text/html": [
       "<div>\n",
       "<style scoped>\n",
       "    .dataframe tbody tr th:only-of-type {\n",
       "        vertical-align: middle;\n",
       "    }\n",
       "\n",
       "    .dataframe tbody tr th {\n",
       "        vertical-align: top;\n",
       "    }\n",
       "\n",
       "    .dataframe thead th {\n",
       "        text-align: right;\n",
       "    }\n",
       "</style>\n",
       "<table border=\"1\" class=\"dataframe\">\n",
       "  <thead>\n",
       "    <tr style=\"text-align: right;\">\n",
       "      <th></th>\n",
       "      <th>Fantasy/Fairy tales</th>\n",
       "      <th>Animated</th>\n",
       "      <th>Biology</th>\n",
       "      <th>Chemistry</th>\n",
       "      <th>Medicine</th>\n",
       "      <th>Shopping</th>\n",
       "      <th>Shopping centres</th>\n",
       "      <th>Height</th>\n",
       "      <th>Weight</th>\n",
       "    </tr>\n",
       "  </thead>\n",
       "  <tbody>\n",
       "    <tr>\n",
       "      <th>Fantasy/Fairy tales</th>\n",
       "      <td>1.000000</td>\n",
       "      <td>0.674675</td>\n",
       "      <td>0.152907</td>\n",
       "      <td>0.089566</td>\n",
       "      <td>0.123417</td>\n",
       "      <td>0.209443</td>\n",
       "      <td>0.095021</td>\n",
       "      <td>-0.224697</td>\n",
       "      <td>-0.177035</td>\n",
       "    </tr>\n",
       "    <tr>\n",
       "      <th>Animated</th>\n",
       "      <td>0.674675</td>\n",
       "      <td>1.000000</td>\n",
       "      <td>0.156603</td>\n",
       "      <td>0.082748</td>\n",
       "      <td>0.067247</td>\n",
       "      <td>0.106671</td>\n",
       "      <td>0.065586</td>\n",
       "      <td>-0.146068</td>\n",
       "      <td>-0.119536</td>\n",
       "    </tr>\n",
       "    <tr>\n",
       "      <th>Biology</th>\n",
       "      <td>0.152907</td>\n",
       "      <td>0.156603</td>\n",
       "      <td>1.000000</td>\n",
       "      <td>0.689859</td>\n",
       "      <td>0.715551</td>\n",
       "      <td>0.085881</td>\n",
       "      <td>0.038951</td>\n",
       "      <td>-0.108767</td>\n",
       "      <td>-0.075812</td>\n",
       "    </tr>\n",
       "    <tr>\n",
       "      <th>Chemistry</th>\n",
       "      <td>0.089566</td>\n",
       "      <td>0.082748</td>\n",
       "      <td>0.689859</td>\n",
       "      <td>1.000000</td>\n",
       "      <td>0.626713</td>\n",
       "      <td>-0.001614</td>\n",
       "      <td>-0.008562</td>\n",
       "      <td>-0.047364</td>\n",
       "      <td>-0.045216</td>\n",
       "    </tr>\n",
       "    <tr>\n",
       "      <th>Medicine</th>\n",
       "      <td>0.123417</td>\n",
       "      <td>0.067247</td>\n",
       "      <td>0.715551</td>\n",
       "      <td>0.626713</td>\n",
       "      <td>1.000000</td>\n",
       "      <td>0.044460</td>\n",
       "      <td>-0.008671</td>\n",
       "      <td>-0.077279</td>\n",
       "      <td>-0.074411</td>\n",
       "    </tr>\n",
       "    <tr>\n",
       "      <th>Shopping</th>\n",
       "      <td>0.209443</td>\n",
       "      <td>0.106671</td>\n",
       "      <td>0.085881</td>\n",
       "      <td>-0.001614</td>\n",
       "      <td>0.044460</td>\n",
       "      <td>1.000000</td>\n",
       "      <td>0.651585</td>\n",
       "      <td>-0.254610</td>\n",
       "      <td>-0.250681</td>\n",
       "    </tr>\n",
       "    <tr>\n",
       "      <th>Shopping centres</th>\n",
       "      <td>0.095021</td>\n",
       "      <td>0.065586</td>\n",
       "      <td>0.038951</td>\n",
       "      <td>-0.008562</td>\n",
       "      <td>-0.008671</td>\n",
       "      <td>0.651585</td>\n",
       "      <td>1.000000</td>\n",
       "      <td>-0.132933</td>\n",
       "      <td>-0.151738</td>\n",
       "    </tr>\n",
       "    <tr>\n",
       "      <th>Height</th>\n",
       "      <td>-0.224697</td>\n",
       "      <td>-0.146068</td>\n",
       "      <td>-0.108767</td>\n",
       "      <td>-0.047364</td>\n",
       "      <td>-0.077279</td>\n",
       "      <td>-0.254610</td>\n",
       "      <td>-0.132933</td>\n",
       "      <td>1.000000</td>\n",
       "      <td>0.697696</td>\n",
       "    </tr>\n",
       "    <tr>\n",
       "      <th>Weight</th>\n",
       "      <td>-0.177035</td>\n",
       "      <td>-0.119536</td>\n",
       "      <td>-0.075812</td>\n",
       "      <td>-0.045216</td>\n",
       "      <td>-0.074411</td>\n",
       "      <td>-0.250681</td>\n",
       "      <td>-0.151738</td>\n",
       "      <td>0.697696</td>\n",
       "      <td>1.000000</td>\n",
       "    </tr>\n",
       "  </tbody>\n",
       "</table>\n",
       "</div>"
      ],
      "text/plain": [
       "                     Fantasy/Fairy tales  Animated   Biology  Chemistry  \\\n",
       "Fantasy/Fairy tales             1.000000  0.674675  0.152907   0.089566   \n",
       "Animated                        0.674675  1.000000  0.156603   0.082748   \n",
       "Biology                         0.152907  0.156603  1.000000   0.689859   \n",
       "Chemistry                       0.089566  0.082748  0.689859   1.000000   \n",
       "Medicine                        0.123417  0.067247  0.715551   0.626713   \n",
       "Shopping                        0.209443  0.106671  0.085881  -0.001614   \n",
       "Shopping centres                0.095021  0.065586  0.038951  -0.008562   \n",
       "Height                         -0.224697 -0.146068 -0.108767  -0.047364   \n",
       "Weight                         -0.177035 -0.119536 -0.075812  -0.045216   \n",
       "\n",
       "                     Medicine  Shopping  Shopping centres    Height    Weight  \n",
       "Fantasy/Fairy tales  0.123417  0.209443          0.095021 -0.224697 -0.177035  \n",
       "Animated             0.067247  0.106671          0.065586 -0.146068 -0.119536  \n",
       "Biology              0.715551  0.085881          0.038951 -0.108767 -0.075812  \n",
       "Chemistry            0.626713 -0.001614         -0.008562 -0.047364 -0.045216  \n",
       "Medicine             1.000000  0.044460         -0.008671 -0.077279 -0.074411  \n",
       "Shopping             0.044460  1.000000          0.651585 -0.254610 -0.250681  \n",
       "Shopping centres    -0.008671  0.651585          1.000000 -0.132933 -0.151738  \n",
       "Height              -0.077279 -0.254610         -0.132933  1.000000  0.697696  \n",
       "Weight              -0.074411 -0.250681         -0.151738  0.697696  1.000000  "
      ]
     },
     "execution_count": 13,
     "metadata": {},
     "output_type": "execute_result"
    }
   ],
   "source": [
    "raw = corr.loc[m, m]\n",
    "raw"
   ]
  },
  {
   "cell_type": "code",
   "execution_count": 14,
   "metadata": {},
   "outputs": [
    {
     "name": "stderr",
     "output_type": "stream",
     "text": [
      "C:\\Users\\Admin\\Anaconda3\\lib\\site-packages\\pandas\\plotting\\_core.py:1716: UserWarning: Pandas doesn't allow columns to be created via a new attribute name - see https://pandas.pydata.org/pandas-docs/stable/indexing.html#attribute-access\n",
      "  series.name = label\n"
     ]
    },
    {
     "data": {
      "text/plain": [
       "<matplotlib.axes._subplots.AxesSubplot at 0x176feccedd8>"
      ]
     },
     "execution_count": 14,
     "metadata": {},
     "output_type": "execute_result"
    },
    {
     "data": {
      "image/png": "[encoded data removed]",
      "text/plain": [
       "<matplotlib.figure.Figure at 0x176fecce7b8>"
      ]
     },
     "metadata": {},
     "output_type": "display_data"
    }
   ],
   "source": [
    "data4 = data.loc[data['Gender'] == 'male']\n",
    "genre = ['Horror','Thriller','Comedy','Romantic','Sci-fi']\n",
    "v4 = []\n",
    "for x in genre :\n",
    "    counts = data4[x].value_counts(normalize=True)\n",
    "    v4.append(counts[4]+counts[5])\n",
    "\n",
    "data5 = data.loc[data['Gender'] != 'male']\n",
    "v5 = []\n",
    "for x in genre :\n",
    "    counts = data5[x].value_counts(normalize=True)\n",
    "    v5.append( counts[4]+counts[5])\n",
    "\n",
    "objects = ('Horror','Thriller','Comedy','Romantic','Sci-fi')\n",
    "y_pos = np.arange(len(objects))\n",
    " \n",
    "\n",
    "\n",
    "df1 = pd.DataFrame()\n",
    "\n",
    "df1['Male']  = v4\n",
    "\n",
    "df1['female'] = v5\n",
    "\n",
    "df1\n",
    "\n",
    "df1['genre']= genre\n",
    "\n",
    "df1.plot(x='genre',y=['Male','female'],kind='bar')"
   ]
  },
  {
   "cell_type": "code",
   "execution_count": null,
   "metadata": {
    "collapsed": true
   },
   "outputs": [],
   "source": []
  },
  {
   "cell_type": "code",
   "execution_count": 15,
   "metadata": {
    "scrolled": true
   },
   "outputs": [
    {
     "data": {
      "image/png": "[encoded data removed]",
      "text/plain": [
       "<matplotlib.figure.Figure at 0x176feca1c50>"
      ]
     },
     "metadata": {},
     "output_type": "display_data"
    }
   ],
   "source": [
    "plot.pie(v4, labels=genre, colors=colors,\n",
    "        autopct='%1.1f%%', shadow=True, startangle=140)\n",
    " \n",
    "plot.axis('equal')\n",
    "plot.show()"
   ]
  },
  {
   "cell_type": "code",
   "execution_count": 16,
   "metadata": {},
   "outputs": [
    {
     "data": {
      "image/png": "[encoded data removed]",
      "text/plain": [
       "<matplotlib.figure.Figure at 0x176fecf1828>"
      ]
     },
     "metadata": {},
     "output_type": "display_data"
    }
   ],
   "source": [
    "plot.pie(v5, labels=genre, colors=colors,\n",
    "        autopct='%1.1f%%', shadow=True, startangle=140)\n",
    " \n",
    "plot.axis('equal')\n",
    "plot.show()"
   ]
  },
  {
   "cell_type": "code",
   "execution_count": 17,
   "metadata": {},
   "outputs": [
    {
     "name": "stderr",
     "output_type": "stream",
     "text": [
      "C:\\Users\\Admin\\Anaconda3\\lib\\site-packages\\pandas\\plotting\\_core.py:1716: UserWarning: Pandas doesn't allow columns to be created via a new attribute name - see https://pandas.pydata.org/pandas-docs/stable/indexing.html#attribute-access\n",
      "  series.name = label\n"
     ]
    },
    {
     "data": {
      "text/plain": [
       "<matplotlib.axes._subplots.AxesSubplot at 0x176fedfdf60>"
      ]
     },
     "execution_count": 17,
     "metadata": {},
     "output_type": "execute_result"
    },
    {
     "data": {
      "image/png": "[encoded data removed]",
      "text/plain": [
       "<matplotlib.figure.Figure at 0x176fedfd550>"
      ]
     },
     "metadata": {},
     "output_type": "display_data"
    }
   ],
   "source": [
    "data6 = data.loc[data['Only child'] == 'yes']\n",
    "genre = ['Horror','Thriller','Comedy','Romantic','Sci-fi']\n",
    "v6 = []\n",
    "for x in genre :\n",
    "    counts = data6[x].value_counts(normalize=True)\n",
    "    v6.append(counts[4]+counts[5])\n",
    "\n",
    "data7 = data.loc[data['Only child'] != 'yes']\n",
    "v7 = []\n",
    "for x in genre :\n",
    "    counts = data7[x].value_counts(normalize=True)\n",
    "    v7.append( counts[4]+counts[5])\n",
    "\n",
    "objects = ('Horror','Thriller','Comedy','Romantic','Sci-fi')\n",
    "y_pos = np.arange(len(objects))\n",
    " \n",
    "\n",
    "\n",
    "df2 = pd.DataFrame()\n",
    "\n",
    "df2['Only']  = v6\n",
    "\n",
    "df2['sib'] = v7\n",
    "\n",
    "df2\n",
    "\n",
    "df2['genre']= genre\n",
    "\n",
    "df2.plot(x='genre',y=['Only','sib'],kind='bar')"
   ]
  },
  {
   "cell_type": "code",
   "execution_count": 18,
   "metadata": {},
   "outputs": [
    {
     "data": {
      "text/plain": [
       "5.0    0.798265\n",
       "4.0    0.121475\n",
       "3.0    0.065076\n",
       "2.0    0.010846\n",
       "1.0    0.004338\n",
       "Name: Movies, dtype: float64"
      ]
     },
     "execution_count": 18,
     "metadata": {},
     "output_type": "execute_result"
    }
   ],
   "source": [
    "data8 = data.loc[data['Internet'] == 5]\n",
    "f1 = data8['Movies'].value_counts(normalize=True)\n",
    "f1"
   ]
  },
  {
   "cell_type": "code",
   "execution_count": null,
   "metadata": {
    "collapsed": true
   },
   "outputs": [],
   "source": []
  },
  {
   "cell_type": "code",
   "execution_count": 19,
   "metadata": {},
   "outputs": [
    {
     "data": {
      "text/plain": [
       "5.0    0.648250\n",
       "4.0    0.257827\n",
       "3.0    0.082873\n",
       "2.0    0.009208\n",
       "1.0    0.001842\n",
       "Name: Movies, dtype: float64"
      ]
     },
     "execution_count": 19,
     "metadata": {},
     "output_type": "execute_result"
    }
   ],
   "source": [
    "data9 = data.loc[data['Internet'] != 5]\n",
    "f2 = data9['Movies'].value_counts(normalize=True)\n",
    "f2"
   ]
  },
  {
   "cell_type": "code",
   "execution_count": null,
   "metadata": {
    "collapsed": true
   },
   "outputs": [],
   "source": []
  },
  {
   "cell_type": "code",
   "execution_count": 20,
   "metadata": {},
   "outputs": [
    {
     "data": {
      "image/png": "[encoded data removed]",
      "text/plain": [
       "<matplotlib.figure.Figure at 0x176fee00e48>"
      ]
     },
     "metadata": {},
     "output_type": "display_data"
    }
   ],
   "source": [
    "fig, (ax1, ax2) = plot.subplots(1, 2)\n",
    "\n",
    "# plot each pie chart in a separate subplot\n",
    "ax1.pie([0.7982,1-0.7982],labels=['Like','Dont Like'],\n",
    "        autopct='%1.1f%%', shadow=True, startangle=140)\n",
    "ax2.pie([0.6482,1-0.6482],labels=['Like','Dont Like'],\n",
    "        autopct='%1.1f%%', shadow=True, startangle=140)\n",
    "plot.title(\"Internet users vs Non Users liking Movies\")\n",
    "plot.show()"
   ]
  },
  {
   "cell_type": "code",
   "execution_count": 21,
   "metadata": {},
   "outputs": [
    {
     "name": "stderr",
     "output_type": "stream",
     "text": [
      "C:\\Users\\Admin\\Anaconda3\\lib\\site-packages\\pandas\\plotting\\_core.py:1716: UserWarning: Pandas doesn't allow columns to be created via a new attribute name - see https://pandas.pydata.org/pandas-docs/stable/indexing.html#attribute-access\n",
      "  series.name = label\n"
     ]
    },
    {
     "data": {
      "text/plain": [
       "<matplotlib.axes._subplots.AxesSubplot at 0x176fef0e2e8>"
      ]
     },
     "execution_count": 21,
     "metadata": {},
     "output_type": "execute_result"
    },
    {
     "data": {
      "image/png": "[encoded data removed]",
      "text/plain": [
       "<matplotlib.figure.Figure at 0x176fef17c50>"
      ]
     },
     "metadata": {},
     "output_type": "display_data"
    }
   ],
   "source": [
    "data8 = data.loc[data['Internet usage'] == 'most of the day']\n",
    "genre = ['Horror','Thriller','Comedy','Romantic','Sci-fi']\n",
    "v8 = []\n",
    "for x in genre :\n",
    "    counts = data8[x].value_counts(normalize=True)\n",
    "    v8.append(counts[4]+counts[5])\n",
    "\n",
    "data9 = data.loc[data['Internet usage'] == 'few hours a day']\n",
    "v9 = []\n",
    "for x in genre :\n",
    "    counts = data9[x].value_counts(normalize=True)\n",
    "    v9.append( counts[4]+counts[5])\n",
    "\n",
    "data10 = data.loc[data['Internet usage'] == 'less than an hour a day']\n",
    "v10 = []\n",
    "for x in genre :\n",
    "    counts = data10[x].value_counts(normalize=True)\n",
    "    v10.append( counts[4]+counts[5])\n",
    "objects = ('Horror','Thriller','Comedy','Romantic','Sci-fi')\n",
    "y_pos = np.arange(len(objects))\n",
    " \n",
    "\n",
    "\n",
    "df5 = pd.DataFrame()\n",
    "\n",
    "df5['Most of the day']  = v8\n",
    "\n",
    "df5['few hours a day'] = v9\n",
    "df5['less than a hour'] =v10\n",
    "\n",
    "df5\n",
    "\n",
    "df5['genre']= genre\n",
    "\n",
    "df5.plot(x='genre',y=['Most of the day','few hours a day','less than a hour'],kind='bar')\n"
   ]
  },
  {
   "cell_type": "code",
   "execution_count": 22,
   "metadata": {},
   "outputs": [
    {
     "name": "stderr",
     "output_type": "stream",
     "text": [
      "C:\\Users\\Admin\\Anaconda3\\lib\\site-packages\\pandas\\plotting\\_core.py:1716: UserWarning: Pandas doesn't allow columns to be created via a new attribute name - see https://pandas.pydata.org/pandas-docs/stable/indexing.html#attribute-access\n",
      "  series.name = label\n"
     ]
    },
    {
     "data": {
      "text/plain": [
       "<matplotlib.axes._subplots.AxesSubplot at 0x176feefa438>"
      ]
     },
     "execution_count": 22,
     "metadata": {},
     "output_type": "execute_result"
    },
    {
     "data": {
      "image/png": "[encoded data removed]",
      "text/plain": [
       "<matplotlib.figure.Figure at 0x176fef07c18>"
      ]
     },
     "metadata": {},
     "output_type": "display_data"
    }
   ],
   "source": [
    "data11 = data.loc[data['Education'] == 'college/bachelor degree']\n",
    "genre = ['Horror','Thriller','Comedy','Romantic','Sci-fi']\n",
    "v11 = []\n",
    "for x in genre :\n",
    "    counts = data11[x].value_counts(normalize=True)\n",
    "    v11.append(counts[4]+counts[5])\n",
    "\n",
    "data12 = data.loc[data['Education'] == 'secondary school']\n",
    "v12 = []\n",
    "for x in genre :\n",
    "    counts = data12[x].value_counts(normalize=True)\n",
    "    v12.append( counts[4]+counts[5])\n",
    "\n",
    "objects = ('Horror','Thriller','Comedy','Romantic','Sci-fi')\n",
    "y_pos = np.arange(len(objects))\n",
    " \n",
    "\n",
    "\n",
    "df6 = pd.DataFrame()\n",
    "\n",
    "df6['bachelor degree']  = v11\n",
    "\n",
    "df6['school'] = v12\n",
    "\n",
    "df6\n",
    "\n",
    "df6['genre']= genre\n",
    "\n",
    "df6.plot(x='genre',y=['bachelor degree','school'],kind='bar')"
   ]
  },
  {
   "cell_type": "code",
   "execution_count": 23,
   "metadata": {},
   "outputs": [
    {
     "name": "stderr",
     "output_type": "stream",
     "text": [
      "C:\\Users\\Admin\\Anaconda3\\lib\\site-packages\\pandas\\plotting\\_core.py:1716: UserWarning: Pandas doesn't allow columns to be created via a new attribute name - see https://pandas.pydata.org/pandas-docs/stable/indexing.html#attribute-access\n",
      "  series.name = label\n"
     ]
    },
    {
     "data": {
      "text/plain": [
       "<matplotlib.axes._subplots.AxesSubplot at 0x176fecaf2e8>"
      ]
     },
     "execution_count": 23,
     "metadata": {},
     "output_type": "execute_result"
    },
    {
     "data": {
      "image/png": "[encoded data removed]",
      "text/plain": [
       "<matplotlib.figure.Figure at 0x176fecaf7b8>"
      ]
     },
     "metadata": {},
     "output_type": "display_data"
    }
   ],
   "source": [
    "data13 = data.loc[data['Entertainment spending'] == 5 ]\n",
    "genre = ['Horror','Thriller','Comedy','Romantic','Sci-fi']\n",
    "v13 = []\n",
    "for x in genre :\n",
    "    counts = data13[x].value_counts(normalize=True)\n",
    "    v13.append(counts[4]+counts[5])\n",
    "\n",
    "data14 = data.loc[data['Entertainment spending'] == 4]\n",
    "v14 = []\n",
    "for x in genre :\n",
    "    counts = data14[x].value_counts(normalize=True)\n",
    "    v14.append( counts[4]+counts[5])\n",
    "data15 = data.loc[data['Entertainment spending'] == 1]\n",
    "#v13 = (v13 + v14)/2\n",
    "v16 = [(x + y)/2 for x, y in zip(v13, v14)]\n",
    "\n",
    "\n",
    "v15 = []\n",
    "for x in genre :\n",
    "    counts = data15[x].value_counts(normalize=True)\n",
    "    v15.append( counts[4]+counts[5])\n",
    "\n",
    "objects = ('Horror','Thriller','Comedy','Romantic','Sci-fi')\n",
    "y_pos = np.arange(len(objects))\n",
    " \n",
    "\n",
    "\n",
    "df7 = pd.DataFrame()\n",
    "\n",
    "df7['High']  = v16\n",
    "\n",
    "df7['Low'] = v15\n",
    "\n",
    "df7\n",
    "\n",
    "df7['genre']= genre\n",
    "\n",
    "df7.plot(x='genre',y=['High','Low'],kind='bar')\n",
    "\n"
   ]
  },
  {
   "cell_type": "code",
   "execution_count": 24,
   "metadata": {},
   "outputs": [
    {
     "data": {
      "image/png": "[encoded data removed]",
      "text/plain": [
       "<matplotlib.figure.Figure at 0x176fede9828>"
      ]
     },
     "metadata": {},
     "output_type": "display_data"
    }
   ],
   "source": [
    "data17 = data.loc[data['Thriller'] == 5]\n",
    "genre = ['Action','Animated','Fantasy/Fairy tales','Romantic','Western']\n",
    "v17 = []\n",
    "for x in genre :\n",
    "    counts = data17[x].value_counts(normalize=True)\n",
    "    v17.append(counts[5]+counts[4])\n",
    "\n",
    "data18 = data.loc[data['Thriller'] == 4]\n",
    "genre = ['Action','Animated','Fantasy/Fairy tales','Romantic','Western']\n",
    "v18 = []\n",
    "for x in genre :\n",
    "    counts = data18[x].value_counts(normalize=True)\n",
    "    v18.append(counts[5]+counts[4])\n",
    "\n",
    "objects = ('Action','Animated','Fantasy','Romantic','Western')\n",
    "y_pos = np.arange(len(objects))\n",
    "v19 = [(x + y)/2 for x, y in zip(v17, v18)]\n",
    "plot.bar(y_pos, v19, align='center', alpha=0.5,color=['g','b','b','b','b'])\n",
    "plot.xticks(y_pos, objects)\n",
    "plot.ylabel('%')\n",
    "plot.title('People watching thrillers like')\n",
    " \n",
    "plot.show()"
   ]
  },
  {
   "cell_type": "code",
   "execution_count": 25,
   "metadata": {},
   "outputs": [
    {
     "data": {
      "image/png": "[encoded data removed]",
      "text/plain": [
       "<matplotlib.figure.Figure at 0x176fdba7cc0>"
      ]
     },
     "metadata": {},
     "output_type": "display_data"
    }
   ],
   "source": [
    "data20 = data.loc[data['Comedy'] == 2]\n",
    "genre = ['Documentary','Thriller','War','Action','Romantic']\n",
    "v20 = []\n",
    "for x in genre :\n",
    "    counts = data20[x].value_counts(normalize=True)\n",
    "    v20.append(counts[5])\n",
    "\n",
    "\n",
    "objects = ('Documentary','Thriller','War','Action','Romantic')\n",
    "y_pos = np.arange(len(objects))\n",
    "\n",
    "plot.bar(y_pos, v20, align='center', alpha=0.5,color=['g','b','b','b','r'])\n",
    "plot.xticks(y_pos, objects)\n",
    "plot.ylabel('%')\n",
    "plot.title('People who dont watch comedy like')\n",
    " \n",
    "plot.show()"
   ]
  },
  {
   "cell_type": "code",
   "execution_count": 26,
   "metadata": {},
   "outputs": [
    {
     "data": {
      "image/png": "[encoded data removed]",
      "text/plain": [
       "<matplotlib.figure.Figure at 0x176fd5bb710>"
      ]
     },
     "metadata": {},
     "output_type": "display_data"
    }
   ],
   "source": [
    "data17 = data.loc[data['Romantic'] == 5]\n",
    "genre = ['Action','Animated','Fantasy/Fairy tales','Thriller','Western']\n",
    "v17 = []\n",
    "for x in genre :\n",
    "    counts = data17[x].value_counts(normalize=True)\n",
    "    v17.append(counts[5]+counts[4])\n",
    "\n",
    "data18 = data.loc[data['Romantic'] == 4]\n",
    "genre = ['Action','Animated','Fantasy/Fairy tales','Thriller','Western']\n",
    "v18 = []\n",
    "for x in genre :\n",
    "    counts = data18[x].value_counts(normalize=True)\n",
    "    v18.append(counts[5]+counts[4])\n",
    "\n",
    "objects = ('Action','Animated','Fantasy','Thriller','Western')\n",
    "y_pos = np.arange(len(objects))\n",
    "v19 = [(x + y)/2 for x, y in zip(v17, v18)]\n",
    "plot.bar(y_pos, v19, align='center', alpha=0.5,color=['g','b','b','b','b'])\n",
    "plot.xticks(y_pos, objects)\n",
    "plot.ylabel('%')\n",
    "plot.title('People watching Romantic like')\n",
    " \n",
    "plot.show()"
   ]
  },
  {
   "cell_type": "code",
   "execution_count": 28,
   "metadata": {},
   "outputs": [
    {
     "name": "stderr",
     "output_type": "stream",
     "text": [
      "C:\\Users\\Admin\\Anaconda3\\lib\\site-packages\\pandas\\plotting\\_core.py:1716: UserWarning: Pandas doesn't allow columns to be created via a new attribute name - see https://pandas.pydata.org/pandas-docs/stable/indexing.html#attribute-access\n",
      "  series.name = label\n"
     ]
    },
    {
     "data": {
      "image/png": "[encoded data removed]",
      "text/plain": [
       "<matplotlib.figure.Figure at 0x176ff39be80>"
      ]
     },
     "metadata": {},
     "output_type": "display_data"
    }
   ],
   "source": [
    "data = pd.read_csv('responses.csv')\n",
    "data6 = data.loc[data['Village - town'] == 'city']\n",
    "genre = ['Horror','Thriller','Comedy','Romantic','Sci-fi']\n",
    "v6 = []\n",
    "for x in genre :\n",
    "    counts = data6[x].value_counts(normalize=True)\n",
    "    v6.append(counts[4]+counts[5])\n",
    "\n",
    "data7 = data.loc[data['Village - town'] != 'village']\n",
    "v7 = []\n",
    "for x in genre :\n",
    "    counts = data7[x].value_counts(normalize=True)\n",
    "    v7.append( counts[4]+counts[5])\n",
    "\n",
    "objects = ('Horror','Thriller','Comedy','Romantic','Sci-fi')\n",
    "y_pos = np.arange(len(objects))\n",
    " \n",
    "\n",
    "\n",
    "df2 = pd.DataFrame()\n",
    "\n",
    "df2['city']  = v6\n",
    "\n",
    "df2['village'] = v7\n",
    "\n",
    "df2\n",
    "\n",
    "df2['genre']= genre\n",
    "\n",
    "df2.plot(x='genre',y=['city','village'],kind='bar')\n",
    "data = pd.read_csv('responses1.csv')"
   ]
  },
  {
   "cell_type": "code",
   "execution_count": 42,
   "metadata": {},
   "outputs": [
    {
     "data": {
      "image/png": "[encoded data removed]",
      "text/plain": [
       "<matplotlib.figure.Figure at 0x176fd5abb70>"
      ]
     },
     "metadata": {},
     "output_type": "display_data"
    },
    {
     "data": {
      "text/plain": [
       "[0.5459615384615385,\n",
       " 0.49551916932907347,\n",
       " 0.43784207662516406,\n",
       " 0.88291618348151]"
      ]
     },
     "execution_count": 42,
     "metadata": {},
     "output_type": "execute_result"
    }
   ],
   "source": [
    "data17 = data.loc[data['Thriller'] == 5]\n",
    "genre = ['Horror','Sci-fi','Romantic','Comedy']\n",
    "v17 = []\n",
    "for x in genre :\n",
    "    counts = data17[x].value_counts(normalize=True)\n",
    "    v17.append(counts[5]+counts[4])\n",
    "\n",
    "data18 = data.loc[data['Thriller'] == 4]\n",
    "genre = ['Horror','Sci-fi','Romantic','Comedy']\n",
    "v18 = []\n",
    "for x in genre :\n",
    "    counts = data18[x].value_counts(normalize=True)\n",
    "    v18.append(counts[5]+counts[4])\n",
    "\n",
    "objects = ('Horror','Sci-fi','Romantic','Comedy')\n",
    "y_pos = np.arange(len(objects))\n",
    "v19 = [(x + y)/2 for x, y in zip(v17, v18)]\n",
    "plot.bar(y_pos, v17, align='center', alpha=0.5,color=['b','b','b','g','b'])\n",
    "plot.xticks(y_pos, objects)\n",
    "plot.ylabel('%')\n",
    "plot.title('People watching Thrillers like')\n",
    " \n",
    "plot.show()\n",
    "v19"
   ]
  },
  {
   "cell_type": "code",
   "execution_count": 36,
   "metadata": {},
   "outputs": [
    {
     "data": {
      "image/png": "[encoded data removed]",
      "text/plain": [
       "<matplotlib.figure.Figure at 0x176800a9ba8>"
      ]
     },
     "metadata": {},
     "output_type": "display_data"
    }
   ],
   "source": [
    "data17 = data.loc[data['Horror'] == 5]\n",
    "genre = ['Thriller','Sci-fi','Romantic','Comedy']\n",
    "v17 = []\n",
    "for x in genre :\n",
    "    counts = data17[x].value_counts(normalize=True)\n",
    "    v17.append(counts[5]+counts[4])\n",
    "\n",
    "data18 = data.loc[data['Horror'] == 4]\n",
    "genre = ['Thriller','Sci-fi','Romantic','Comedy']\n",
    "v18 = []\n",
    "for x in genre :\n",
    "    counts = data18[x].value_counts(normalize=True)\n",
    "    v18.append(counts[5]+counts[4])\n",
    "\n",
    "objects = ('Thriller','Sci-fi','Romantic','Comedy')\n",
    "y_pos = np.arange(len(objects))\n",
    "v19 = [(x + y)/2 for x, y in zip(v17, v18)]\n",
    "plot.bar(y_pos, v17, align='center', alpha=0.5,color=['g','b','b','g','b'])\n",
    "plot.xticks(y_pos, objects)\n",
    "plot.ylabel('%')\n",
    "plot.title('People watching Horror like')\n",
    " \n",
    "plot.show()"
   ]
  },
  {
   "cell_type": "code",
   "execution_count": 37,
   "metadata": {},
   "outputs": [
    {
     "data": {
      "image/png": "[encoded data removed]",
      "text/plain": [
       "<matplotlib.figure.Figure at 0x1768006b7b8>"
      ]
     },
     "metadata": {},
     "output_type": "display_data"
    }
   ],
   "source": [
    "data17 = data.loc[data['Sci-fi'] == 5]\n",
    "genre = ['Horror','Thriller','Romantic','Comedy']\n",
    "v17 = []\n",
    "for x in genre :\n",
    "    counts = data17[x].value_counts(normalize=True)\n",
    "    v17.append(counts[5]+counts[4])\n",
    "\n",
    "data18 = data.loc[data['Sci-fi'] == 4]\n",
    "genre = ['Horror','Thriller','Romantic','Comedy']\n",
    "v18 = []\n",
    "for x in genre :\n",
    "    counts = data18[x].value_counts(normalize=True)\n",
    "    v18.append(counts[5]+counts[4])\n",
    "\n",
    "objects = ('Horror','Thriller','Romantic','Comedy')\n",
    "y_pos = np.arange(len(objects))\n",
    "v19 = [(x + y)/2 for x, y in zip(v17, v18)]\n",
    "plot.bar(y_pos, v17, align='center', alpha=0.5,color=['b','b','b','g','b'])\n",
    "plot.xticks(y_pos, objects)\n",
    "plot.ylabel('%')\n",
    "plot.title('People watching Sci-fi like')\n",
    " \n",
    "plot.show()"
   ]
  },
  {
   "cell_type": "code",
   "execution_count": 38,
   "metadata": {},
   "outputs": [
    {
     "data": {
      "image/png": "[encoded data removed]",
      "text/plain": [
       "<matplotlib.figure.Figure at 0x176fed7cc18>"
      ]
     },
     "metadata": {},
     "output_type": "display_data"
    }
   ],
   "source": [
    "data17 = data.loc[data['Romantic'] == 5]\n",
    "genre = ['Horror','Sci-fi','Thriller','Comedy']\n",
    "v17 = []\n",
    "for x in genre :\n",
    "    counts = data17[x].value_counts(normalize=True)\n",
    "    v17.append(counts[5]+counts[4])\n",
    "\n",
    "data18 = data.loc[data['Romantic'] == 4]\n",
    "genre = ['Horror','Sci-fi','Thriller','Comedy']\n",
    "v18 = []\n",
    "for x in genre :\n",
    "    counts = data18[x].value_counts(normalize=True)\n",
    "    v18.append(counts[5]+counts[4])\n",
    "\n",
    "objects = ('Horror','Sci-fi','Thriller','Comedy')\n",
    "y_pos = np.arange(len(objects))\n",
    "v19 = [(x + y)/2 for x, y in zip(v17, v18)]\n",
    "plot.bar(y_pos, v17, align='center', alpha=0.5,color=['b','b','b','g','b'])\n",
    "plot.xticks(y_pos, objects)\n",
    "plot.ylabel('%')\n",
    "plot.title('People watching Romantic like')\n",
    " \n",
    "plot.show()"
   ]
  },
  {
   "cell_type": "code",
   "execution_count": 40,
   "metadata": {},
   "outputs": [
    {
     "data": {
      "image/png": "[encoded data removed]",
      "text/plain": [
       "<matplotlib.figure.Figure at 0x176fed803c8>"
      ]
     },
     "metadata": {},
     "output_type": "display_data"
    }
   ],
   "source": [
    "data17 = data.loc[data['Comedy'] == 5]\n",
    "genre = ['Horror','Sci-fi','Romantic','Thriller']\n",
    "v17 = []\n",
    "for x in genre :\n",
    "    counts = data17[x].value_counts(normalize=True)\n",
    "    v17.append(counts[5]+counts[4])\n",
    "\n",
    "data18 = data.loc[data['Comedy'] == 4]\n",
    "genre = ['Horror','Sci-fi','Romantic','Thriller']\n",
    "v18 = []\n",
    "for x in genre :\n",
    "    counts = data18[x].value_counts(normalize=True)\n",
    "    v18.append(counts[5]+counts[4])\n",
    "\n",
    "objects = ('Horror','Sci-fi','Romantic','Thriller')\n",
    "y_pos = np.arange(len(objects))\n",
    "v19 = [(x + y)/2 for x, y in zip(v17, v18)]\n",
    "plot.bar(y_pos, v19, align='center', alpha=0.5,color=['b','b','g','g','b'])\n",
    "plot.xticks(y_pos, objects)\n",
    "plot.ylabel('%')\n",
    "plot.title('People watching Comedy like')\n",
    " \n",
    "plot.show()"
   ]
  },
  {
   "cell_type": "code",
   "execution_count": null,
   "metadata": {
    "collapsed": true
   },
   "outputs": [],
   "source": []
  }
 ],
 "metadata": {
  "kernelspec": {
   "display_name": "Python 3",
   "language": "python",
   "name": "python3"
  },
  "language_info": {
   "codemirror_mode": {
    "name": "ipython",
    "version": 3
   },
   "file_extension": ".py",
   "mimetype": "text/x-python",
   "name": "python",
   "nbconvert_exporter": "python",
   "pygments_lexer": "ipython3",
   "version": "3.6.1"
  }
 },
 "nbformat": 4,
 "nbformat_minor": 2
}
